{
  "nbformat": 4,
  "nbformat_minor": 0,
  "metadata": {
    "colab": {
      "provenance": []
    },
    "kernelspec": {
      "name": "python3",
      "display_name": "Python 3"
    },
    "language_info": {
      "name": "python"
    }
  },
  "cells": [
    {
      "cell_type": "markdown",
      "source": [
        "Recursive Feature Elimination es un algoritmo que selecciona las columnas mas importantes de un dataset. El tener menos columnas puede ayudar a que los algoritmos de Machine Learning que son entrenados con dicho dataset sean mas eficientes y efectivos. \n",
        "\n",
        "El algoritmo RFE funciona con algoritmo de Machine Learning por debajo, lo que lo convierte en un algoritmo de selección de características de tipo Wrapper."
      ],
      "metadata": {
        "id": "b9OOEKpUvygN"
      }
    },
    {
      "cell_type": "markdown",
      "source": [
        "#Utilizando RFE para clasificación:"
      ],
      "metadata": {
        "id": "CjJkPNp20moS"
      }
    },
    {
      "cell_type": "markdown",
      "source": [
        "### Evaluación de un modelo de RFE para clasificación:"
      ],
      "metadata": {
        "id": "pH5EUuos_4kD"
      }
    },
    {
      "cell_type": "code",
      "execution_count": null,
      "metadata": {
        "id": "gOzPWNHYoIqI",
        "colab": {
          "base_uri": "https://localhost:8080/"
        },
        "outputId": "9c238909-f8ea-4a51-fcb4-c3dcfda6b809"
      },
      "outputs": [
        {
          "output_type": "stream",
          "name": "stdout",
          "text": [
            "Accuracy: 0.884 (0.033)\n"
          ]
        }
      ],
      "source": [
        "from numpy import mean\n",
        "from numpy import std\n",
        "from sklearn.datasets import make_classification\n",
        "from sklearn.model_selection import cross_val_score\n",
        "from sklearn.model_selection import RepeatedStratifiedKFold\n",
        "from sklearn.feature_selection import RFE\n",
        "from sklearn.tree import DecisionTreeClassifier\n",
        "from sklearn.pipeline import Pipeline\n",
        "\n",
        "# Se genera un dataset y su vector de clasificación binaria.\n",
        "X, y = make_classification(n_samples=1000, n_features=10, n_informative=5, n_redundant=5, random_state=1)\n",
        "\n",
        "# Se crea el modelo para realizar la selección. Se va a utilizar el RFE con un algoritmo de selección de Árbol de Decisión,\n",
        "# el cual va a ser el que se va a encargar de determinar cuáles son los 5 features mas relevantes.\n",
        "rfe = RFE(estimator=DecisionTreeClassifier(), n_features_to_select=5)\n",
        "model = DecisionTreeClassifier()\n",
        "pipeline = Pipeline(steps=[('s',rfe),('m',model)])\n",
        "\n",
        "# Se evalúa el modelo utilizando el algoritmo de RepeatedStratifiedKFold, en el cual se realiza una validación cruzada de diferentes combinaciones de datos.\n",
        "# Luego, se genera un arreglo con los resultados de validación cruzada.\n",
        "cv = RepeatedStratifiedKFold(n_splits=10, n_repeats=3, random_state=1)\n",
        "n_scores = cross_val_score(pipeline, X, y, scoring='accuracy', cv=cv, n_jobs=-1, error_score='raise')\n",
        "\n",
        "# Se reportan los resultados.\n",
        "print('Accuracy: %.3f (%.3f)' % (mean(n_scores), std(n_scores)))\n",
        "\n",
        "\n"
      ]
    },
    {
      "cell_type": "markdown",
      "source": [
        "### Predecir resultados utilizando RFE"
      ],
      "metadata": {
        "id": "_2U3bmQ9AC5D"
      }
    },
    {
      "cell_type": "code",
      "source": [
        "# Se entrena el modelo RFE con el creado previamente.\n",
        "pipeline.fit(X, y)\n",
        "\n",
        "# Se realiza una predicción dado un ejemplo.\n",
        "data = [[2.56999479,-0.13019997,3.16075093,-4.35936352,-1.61271951,-1.39352057,-2.48924933,-1.93094078,3.26130366,2.05692145]]\n",
        "yhat = pipeline.predict(data)\n",
        "print('Predicted Class: %d' % (yhat))"
      ],
      "metadata": {
        "colab": {
          "base_uri": "https://localhost:8080/"
        },
        "id": "lm7dOSK55LU2",
        "outputId": "b25f0d62-11f8-493f-913d-74d113a24835"
      },
      "execution_count": null,
      "outputs": [
        {
          "output_type": "stream",
          "name": "stdout",
          "text": [
            "Predicted Class: 1\n"
          ]
        }
      ]
    },
    {
      "cell_type": "markdown",
      "source": [
        "# Utilizando RFE para regresión."
      ],
      "metadata": {
        "id": "BNbgWADFKz5N"
      }
    },
    {
      "cell_type": "markdown",
      "source": [
        "### Se crea y evalúa un modelo de RFE para regresión."
      ],
      "metadata": {
        "id": "bORmNWDuK9Bn"
      }
    },
    {
      "cell_type": "code",
      "source": [
        "\n",
        "from sklearn.datasets import make_regression\n",
        "from sklearn.model_selection import RepeatedKFold\n",
        "from sklearn.tree import DecisionTreeRegressor\n",
        "\n",
        "# Se crea un dataset para regresión.\n",
        "X, y = make_regression(n_samples=1000, n_features=10, n_informative=5, random_state=1)\n",
        "\n",
        "# Se define el modelo de RFE, que en este caso va a estar utilizando un árbol de decisión para regresión.\n",
        "rfe = RFE(estimator=DecisionTreeRegressor(), n_features_to_select=5)\n",
        "model = DecisionTreeRegressor()\n",
        "pipeline = Pipeline(steps=[('s',rfe),('m',model)])\n",
        "\n",
        "\n",
        "# Se evalúa el modelo utilizando el algoritmo K-fold repetido y se generan resultados basados en MAE. \n",
        "cv = RepeatedKFold(n_splits=10, n_repeats=3, random_state=1)\n",
        "n_scores = cross_val_score(pipeline, X, y, scoring='neg_mean_absolute_error', cv=cv, n_jobs=-1, error_score='raise')\n",
        "\n",
        "# Se reportan los resultados.\n",
        "print('MAE: %.3f (%.3f)' % (mean(n_scores), std(n_scores)))"
      ],
      "metadata": {
        "colab": {
          "base_uri": "https://localhost:8080/"
        },
        "id": "ibgrN98y5Ttn",
        "outputId": "cf74940c-1351-4f45-90b0-b67a3208003f"
      },
      "execution_count": null,
      "outputs": [
        {
          "output_type": "stream",
          "name": "stdout",
          "text": [
            "MAE: -27.408 (2.945)\n"
          ]
        }
      ]
    },
    {
      "cell_type": "markdown",
      "source": [
        "### Realizando predicción de regresión utilizando RFE."
      ],
      "metadata": {
        "id": "0-TnYzGtKuKk"
      }
    },
    {
      "cell_type": "code",
      "source": [
        "# fit the model on all available data\n",
        "pipeline.fit(X, y)\n",
        "# make a prediction for one example\n",
        "data = [[-2.02220122,0.31563495,0.82797464,-0.30620401,0.16003707,-1.44411381,0.87616892,-0.50446586,0.23009474,0.76201118]]\n",
        "yhat = pipeline.predict(data)\n",
        "print('Predicted: %.3f' % (yhat))"
      ],
      "metadata": {
        "colab": {
          "base_uri": "https://localhost:8080/"
        },
        "id": "x1JOlIJt5bjV",
        "outputId": "610662e6-912d-46b2-eb8b-cb74e03564b2"
      },
      "execution_count": null,
      "outputs": [
        {
          "output_type": "stream",
          "name": "stdout",
          "text": [
            "Predicted: -84.288\n"
          ]
        }
      ]
    },
    {
      "cell_type": "markdown",
      "source": [
        "# Diferentes Hiperparámetros para configurar el RFE."
      ],
      "metadata": {
        "id": "5NQX4HmJAwyS"
      }
    },
    {
      "cell_type": "markdown",
      "source": [
        "### Trabajando con diferente número de features en el RFE. "
      ],
      "metadata": {
        "id": "VF8oYNZGCVww"
      }
    },
    {
      "cell_type": "code",
      "source": [
        "\n",
        "from sklearn.datasets import make_classification\n",
        "from matplotlib import pyplot\n",
        " \n",
        "# Método para obtener un dataset, en este caso de clasificación.\n",
        "def get_dataset():\n",
        " X, y = make_classification(n_samples=1000, n_features=10, n_informative=5, n_redundant=5, random_state=1)\n",
        " return X, y\n",
        " \n",
        "# Método para genera un diccionario con diferentes modelos.\n",
        "def get_models():\n",
        " models = dict()\n",
        " for i in range(2, 10):\n",
        "  rfe = RFE(estimator=DecisionTreeClassifier(), n_features_to_select=i)\n",
        "  model = DecisionTreeClassifier()\n",
        "  models[str(i)] = Pipeline(steps=[('s',rfe),('m',model)])\n",
        " return models\n",
        " \n",
        "# Método para evaluar un modelo dado, con un dataset.\n",
        "def evaluate_model(model, X, y):\n",
        " cv = RepeatedStratifiedKFold(n_splits=10, n_repeats=3, random_state=1)\n",
        " scores = cross_val_score(model, X, y, scoring='accuracy', cv=cv, n_jobs=-1, error_score='raise')\n",
        " return scores\n",
        " \n",
        "X, y = get_dataset()\n",
        "models = get_models()\n",
        "results, names = list(), list()\n",
        "for name, model in models.items():\n",
        " scores = evaluate_model(model, X, y)\n",
        " results.append(scores)\n",
        " names.append(name)\n",
        " print('>%s %.3f (%.3f)' % (name, mean(scores), std(scores)))\n",
        "# plot model performance for comparison\n",
        "pyplot.boxplot(results, labels=names, showmeans=True)\n",
        "pyplot.show()"
      ],
      "metadata": {
        "colab": {
          "base_uri": "https://localhost:8080/",
          "height": 569
        },
        "id": "pHQn9IiP5c_J",
        "outputId": "66a6d8b4-abb5-48da-deba-ad74a8800121"
      },
      "execution_count": null,
      "outputs": [
        {
          "output_type": "stream",
          "name": "stdout",
          "text": [
            ">2 0.715 (0.043)\n",
            ">3 0.824 (0.036)\n",
            ">4 0.877 (0.032)\n",
            ">5 0.886 (0.031)\n",
            ">6 0.885 (0.031)\n",
            ">7 0.890 (0.024)\n",
            ">8 0.879 (0.028)\n",
            ">9 0.889 (0.026)\n"
          ]
        },
        {
          "output_type": "display_data",
          "data": {
            "text/plain": [
              "<Figure size 640x480 with 1 Axes>"
            ],
            "image/png": "[encoded data removed]"
          },
          "metadata": {}
        }
      ]
    },
    {
      "cell_type": "markdown",
      "source": [
        "### Utilizando la selección automática del número de features con la clase RFECV"
      ],
      "metadata": {
        "id": "ucNbLbyYCjvc"
      }
    },
    {
      "cell_type": "code",
      "source": [
        "from sklearn.feature_selection import RFECV\n",
        "\n",
        "X, y = make_classification(n_samples=1000, n_features=10, n_informative=5, n_redundant=5, random_state=1)\n",
        "\n",
        "# Utilizando RFECV. Como se puede observar, no se pone una cantidad de features.\n",
        "rfe = RFECV(estimator=DecisionTreeClassifier())\n",
        "model = DecisionTreeClassifier()\n",
        "pipeline = Pipeline(steps=[('s',rfe),('m',model)])\n",
        "\n",
        "cv = RepeatedStratifiedKFold(n_splits=10, n_repeats=3, random_state=1)\n",
        "n_scores = cross_val_score(pipeline, X, y, scoring='accuracy', cv=cv, n_jobs=-1, error_score='raise')\n",
        "print('Accuracy: %.3f (%.3f)' % (mean(n_scores), std(n_scores)))"
      ],
      "metadata": {
        "colab": {
          "base_uri": "https://localhost:8080/"
        },
        "id": "Kn8jXzpN6Fi7",
        "outputId": "b06e2d97-85f4-4598-cad5-bad50a16498a"
      },
      "execution_count": null,
      "outputs": [
        {
          "output_type": "stream",
          "name": "stdout",
          "text": [
            "Accuracy: 0.885 (0.028)\n"
          ]
        }
      ]
    },
    {
      "cell_type": "markdown",
      "source": [
        "### Visualizar información acerca de las columnas o features seleccionados por el RFE"
      ],
      "metadata": {
        "id": "8CV1guVdD6cF"
      }
    },
    {
      "cell_type": "code",
      "source": [
        "# Se corre el RFE con el dataset creado previamente\n",
        "rfe.fit(X, y)\n",
        "\n",
        "# Se muestran cúales de las columnas fueron elegidas por el rfe, así como su rango en cuanto a importancia.\n",
        "for i in range(X.shape[1]):\n",
        " print('Column: %d, Selected %s, Rank: %.3f' % (i, rfe.support_[i], rfe.ranking_[i]))"
      ],
      "metadata": {
        "colab": {
          "base_uri": "https://localhost:8080/"
        },
        "id": "UdCY-gP96I-A",
        "outputId": "69006745-3763-4bae-a2a6-2198522dd75a"
      },
      "execution_count": null,
      "outputs": [
        {
          "output_type": "stream",
          "name": "stdout",
          "text": [
            "Column: 0, Selected False, Rank: 4.000\n",
            "Column: 1, Selected False, Rank: 5.000\n",
            "Column: 2, Selected True, Rank: 1.000\n",
            "Column: 3, Selected True, Rank: 1.000\n",
            "Column: 4, Selected True, Rank: 1.000\n",
            "Column: 5, Selected False, Rank: 6.000\n",
            "Column: 6, Selected True, Rank: 1.000\n",
            "Column: 7, Selected False, Rank: 3.000\n",
            "Column: 8, Selected True, Rank: 1.000\n",
            "Column: 9, Selected False, Rank: 2.000\n"
          ]
        }
      ]
    },
    {
      "cell_type": "code",
      "source": [
        "from sklearn.linear_model import LogisticRegression\n",
        "from sklearn.linear_model import Perceptron\n",
        "from sklearn.ensemble import RandomForestClassifier\n",
        "from sklearn.ensemble import GradientBoostingClassifier\n",
        "# Método que genera un dataset de clasificación.\n",
        "def get_dataset():\n",
        " X, y = make_classification(n_samples=1000, n_features=10, n_informative=5, n_redundant=5, random_state=1)\n",
        " return X, y\n",
        " \n",
        "# Método que genera modelos utilizando diferentes algoritmos como estimadores\n",
        "def get_models():\n",
        " models = dict()\n",
        " # lr\n",
        " rfe = RFE(estimator=LogisticRegression(), n_features_to_select=5)\n",
        " model = DecisionTreeClassifier()\n",
        " models['lr'] = Pipeline(steps=[('s',rfe),('m',model)])\n",
        " # perceptron\n",
        " rfe = RFE(estimator=Perceptron(), n_features_to_select=5)\n",
        " model = DecisionTreeClassifier()\n",
        " models['per'] = Pipeline(steps=[('s',rfe),('m',model)])\n",
        " # cart\n",
        " rfe = RFE(estimator=DecisionTreeClassifier(), n_features_to_select=5)\n",
        " model = DecisionTreeClassifier()\n",
        " models['cart'] = Pipeline(steps=[('s',rfe),('m',model)])\n",
        " # rf\n",
        " rfe = RFE(estimator=RandomForestClassifier(), n_features_to_select=5)\n",
        " model = DecisionTreeClassifier()\n",
        " models['rf'] = Pipeline(steps=[('s',rfe),('m',model)])\n",
        " # gbm\n",
        " rfe = RFE(estimator=GradientBoostingClassifier(), n_features_to_select=5)\n",
        " model = DecisionTreeClassifier()\n",
        " models['gbm'] = Pipeline(steps=[('s',rfe),('m',model)])\n",
        " return models\n",
        " \n",
        "# Método que evalúa un modelo utilizando un dataset determinado.\n",
        "def evaluate_model(model, X, y):\n",
        " cv = RepeatedStratifiedKFold(n_splits=10, n_repeats=3, random_state=1)\n",
        " scores = cross_val_score(model, X, y, scoring='accuracy', cv=cv, n_jobs=-1)\n",
        " return scores\n",
        " \n",
        "X, y = get_dataset()\n",
        "models = get_models()\n",
        "results, names = list(), list()\n",
        "for name, model in models.items():\n",
        " scores = evaluate_model(model, X, y)\n",
        " results.append(scores)\n",
        " names.append(name)\n",
        " # se imprimen y grafican los resultados para cada modelo, para determinar cuál es el mas preciso.\n",
        " print('>%s %.3f (%.3f)' % (name, mean(scores), std(scores)))\n",
        "pyplot.boxplot(results, labels=names, showmeans=True)\n",
        "pyplot.show()"
      ],
      "metadata": {
        "colab": {
          "base_uri": "https://localhost:8080/",
          "height": 517
        },
        "id": "VZy3yXab6Oa3",
        "outputId": "8cf93986-b836-441c-9408-8ce8aca8e66e"
      },
      "execution_count": null,
      "outputs": [
        {
          "output_type": "stream",
          "name": "stdout",
          "text": [
            ">lr 0.891 (0.031)\n",
            ">per 0.846 (0.041)\n",
            ">cart 0.885 (0.031)\n",
            ">rf 0.858 (0.039)\n",
            ">gbm 0.892 (0.031)\n"
          ]
        },
        {
          "output_type": "display_data",
          "data": {
            "text/plain": [
              "<Figure size 640x480 with 1 Axes>"
            ],
            "image/png": "[encoded data removed]"
          },
          "metadata": {}
        }
      ]
    },
    {
      "cell_type": "markdown",
      "source": [],
      "metadata": {
        "id": "zbzdoUWlvvdH"
      }
    }
  ]
}